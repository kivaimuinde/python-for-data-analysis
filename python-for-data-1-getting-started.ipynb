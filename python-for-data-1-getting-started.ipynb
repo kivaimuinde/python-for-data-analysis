{
 "cells": [
  {
   "attachments": {},
   "cell_type": "markdown",
   "metadata": {
    "_cell_guid": "b1076dfc-b9ad-4769-8c92-a6c4dae69d19",
    "_uuid": "8f2839f25d086af736a60e9eeb907d3b93b6e0e5"
   },
   "source": [
    "[back to index](https://github.com/kivaimuinde/python-for-data-analysis)"
   ]
  },
  {
   "attachments": {},
   "cell_type": "markdown",
   "metadata": {
    "_cell_guid": "79c7e3d0-c299-4dcb-8224-4455121ee9b0",
    "_uuid": "d629ff2d2480ee46fbb7e2d37f6b5fab8052498a"
   },
   "source": [
    "This notebook is the first in an ongoing series of 30 lessons aimed at providing an introduction to the Python programming language for data analysis and predictive modeling. This guide does not assume prior experience with programming or data science and focuses on the use of Python as a tool for data analysis."
   ]
  },
  {
   "attachments": {},
   "cell_type": "markdown",
   "metadata": {},
   "source": [
    "# Python Setup"
   ]
  },
  {
   "attachments": {},
   "cell_type": "markdown",
   "metadata": {},
   "source": [
    "This guide uses the Kaggle kernel environment to deliver content, so you do not need to set up a local Python environment to follow along. Instead, you can simply read each lesson in your browser window and if you'd like to run and interact with the code, you can fork the kernel for a given lesson to create a personal copy of it that you can alter and run as you see fit. In reworking the guide for the Kaggle kernel environment I hope that it becomes more accessible and interactive while simultaneously avoiding problems with incompatibilities across different versions of Python.\n",
    "\n",
    "If you would like to set up a local Python environment on your computer, you will need to download Python. It is easiest to download the Anaconda Python distribution from Continuum Analytics. Anaconda bundles Python with dozens of popular data analysis libraries and it comes with a nice integrated development environment (a fancy code editor) called Spyder. See [Part 1](http://hamelg.blogspot.com/2015/10/python-for-data-analysis-part-1-setup.html) of my original guide for a brief tutorial on setting up Python locally. This guide does not require that you have a local Python environment and assumes you'll be following along on Kaggle's kernels instead."
   ]
  },
  {
   "attachments": {},
   "cell_type": "markdown",
   "metadata": {},
   "source": [
    "# Notebook Shortcuts"
   ]
  },
  {
   "attachments": {},
   "cell_type": "markdown",
   "metadata": {},
   "source": [
    "The Jupyter programming environment comes with a variety of keyboard shortcuts that can help you do common operations quicker. First of all, it should be noted that the Jupyter notebook has two distinct modes: Edit mode and Command mode. When you click on a Markdown or code cell like this one (click on it now!), the notebook will be put into edit mode allowing you to directly edit the contents of the cell. While in edit mode, you have access to keyboard shortcuts that deal with editing the contents of the selected cell. Going into command mode lets you use a variety of higher level commands that let you do things like create new cells, delete cells and convert cells from one type to another. \n",
    "\n",
    "While in edit mode, press the escape key to enter command mode. Try it now! \n",
    "\n",
    "You should notice the flashing text edit cursor disappear when you enter command mode. Now that you are in command mode, press the \"P\" key to bring up a list of notebook commands and then search for \"show keyboard shortcuts\" and click on it. You'll notice two lists: one for keyboard commands that work in edit mode and one for commands that work while you are in command mode. Don't be overwhelmed by the number of keyboard shortcuts: it is not really important that you learn any of them for this guide beyond using control + enter to run code, but I wanted you to be aware that you can use various shortcuts to help navigate the notebooks. \n",
    "\n",
    "It should be noted that control + enter to run code cells works in both edit mode and command mode. Some other useful shortcuts while in command mode include: \"A\" to create a new cell above the current cell, \"B\" to create a new cell below the current cell, \"M\" to convert the current cell to Markdown, \"Y\" to convert the current cell to code and \"DD\" (press \"D\" twice) to delete the current cell."
   ]
  },
  {
   "attachments": {},
   "cell_type": "markdown",
   "metadata": {},
   "source": [
    "# Wrap Up"
   ]
  },
  {
   "attachments": {},
   "cell_type": "markdown",
   "metadata": {},
   "source": [
    "This lesson is just the tip of the iceberg. Although we spent most of our time discussing the programming environment we will use throughout this guide, we are now well prepared to jump in and start learning Python. In the following lessons we will continue our journey by learning the very basics of Python and programming in general to give you the foundation necessary to move onto using Python as a tool for data analysis and predictive modeling. We will start slow, but during the course of this guide you will learn all the tools you need to start exploring data, generating plots and making predictive models with Python. We will use the Titanic disaster data set as our primary motivating example, but the tools you learn will be transferable to any data project you're looking to tackle. If you have some prior experience with Python or another programming language you may wish to [skip ahead](https://github.com/kivaimuinde/python-for-data-analysis) to a specific part of this guide that interests you."
   ]
  },
  {
   "attachments": {},
   "cell_type": "markdown",
   "metadata": {},
   "source": [
    "# Next Lesson: [Python for Data 2: Python Arithmetic](#)\n",
    "[back to index](https://github.com/kivaimuinde/python-for-data-analysis)"
   ]
  }
 ],
 "metadata": {
  "kernelspec": {
   "display_name": "Python 3",
   "language": "python",
   "name": "python3"
  },
  "language_info": {
   "codemirror_mode": {
    "name": "ipython",
    "version": 3
   },
   "file_extension": ".py",
   "mimetype": "text/x-python",
   "name": "python",
   "nbconvert_exporter": "python",
   "pygments_lexer": "ipython3",
   "version": "3.10.6"
  }
 },
 "nbformat": 4,
 "nbformat_minor": 4
}
